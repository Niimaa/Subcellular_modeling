{
 "cells": [
  {
   "cell_type": "code",
   "execution_count": 13,
   "metadata": {
    "collapsed": true,
    "pycharm": {
     "is_executing": false
    }
   },
   "outputs": [],
   "source": [
    "import matplotlib.pyplot as plt\n",
    "import numpy as np\n",
    "from scipy import optimize\n",
    "\n"
   ]
  },
  {
   "cell_type": "code",
   "execution_count": 19,
   "outputs": [
    {
     "name": "stdout",
     "text": [
      "Fit the model to the myoglobin data\n===================================\n\nBest fit parameters =  [5.12583537 2.83812113]\nSum of squares of the residuals =  0.052366735513372904\n"
     ],
     "output_type": "stream"
    },
    {
     "data": {
      "text/plain": "<Figure size 360x360 with 1 Axes>",
      "image/png": "[encoded data removed]"
     },
     "metadata": {
      "needs_background": "light"
     },
     "output_type": "display_data"
    }
   ],
   "source": [
    "# Experimental data for Myoglobin\n",
    "x1 = np.array([1.1, 1.5, 1.6, 2.3, 3.4, 5.3, 7.5, 8.4, 14.1])\n",
    "y1 = np.array([1.49, 1.79, 1.79, 2.11, 2.83, 3.42, 3.79, 3.97, 4.09])\n",
    "\n",
    "# Experimental data for Hemoglobin\n",
    "x2 = np.array ([2, 10, 18, 20, 31, 42, 50, 60, 80, 98])                                            \n",
    "y2 = np.array ([0.4, 2, 5.6, 6.2, 11, 15, 16.8, 18.2, 19, 18.8])\n",
    "\n",
    "h = 1\n",
    "\n",
    "# Define the Michaelis-Menten model\n",
    "def mymodel(x, p):\n",
    "   return p[0]*x/(p[1]+x)\n",
    "\n",
    "# Define the objective function\n",
    "def objective_func (p, x, y):\n",
    "    return y - mymodel (x, p)\n",
    "\n",
    "print ('Fit the model to the myoglobin data')\n",
    "print ('===================================')\n",
    "output = optimize.least_squares (objective_func, [10, 10], args=(x1, y1))\n",
    "\n",
    "print ('\\nBest fit parameters = ', output.x)\n",
    "print ('Sum of squares of the residuals = ', output.cost)\n",
    "\n",
    "plt.figure(figsize=(5,5))\n",
    "plt.plot(x1, mymodel (x1, output.x), '--', x1, y1, 'o')\n",
    "\n",
    "plt.title('Fit of Myoglobin Data using Michaelis-Menten')\n",
    "# loc=10 means center the legend\n",
    "plt.legend(['Fitted Curve', 'Data'], loc=10)\n",
    "plt.show()\n"
   ],
   "metadata": {
    "collapsed": false,
    "pycharm": {
     "name": "#%%\n",
     "is_executing": false
    }
   }
  },
  {
   "cell_type": "code",
   "execution_count": null,
   "outputs": [],
   "source": [
    "\n"
   ],
   "metadata": {
    "collapsed": false,
    "pycharm": {
     "name": "#%%\n"
    }
   }
  }
 ],
 "metadata": {
  "kernelspec": {
   "display_name": "Python 3",
   "language": "python",
   "name": "python3"
  },
  "language_info": {
   "codemirror_mode": {
    "name": "ipython",
    "version": 2
   },
   "file_extension": ".py",
   "mimetype": "text/x-python",
   "name": "python",
   "nbconvert_exporter": "python",
   "pygments_lexer": "ipython2",
   "version": "2.7.6"
  },
  "pycharm": {
   "stem_cell": {
    "cell_type": "raw",
    "source": [],
    "metadata": {
     "collapsed": false
    }
   }
  }
 },
 "nbformat": 4,
 "nbformat_minor": 0
}