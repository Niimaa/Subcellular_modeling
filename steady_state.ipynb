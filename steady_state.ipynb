{
 "cells": [
  {
   "cell_type": "code",
   "execution_count": 2,
   "metadata": {
    "collapsed": true,
    "pycharm": {
     "is_executing": false
    }
   },
   "outputs": [],
   "source": [
    "import tellurium as te\n",
    "import numpy as np"
   ]
  },
  {
   "cell_type": "code",
   "execution_count": 225,
   "outputs": [],
   "source": [
    "steady_state_str = '''\n",
    "model steady_State\n",
    "J1: $S1 -> S2; K1*S1\n",
    "J2: S2 -> ; Vm2 * S2/ (Km + S2)\n",
    "\n",
    "K1 = 0.1; S1 = 10; Vm2 = 1.5; Km = 0.5;\n",
    "end\n",
    "'''"
   ],
   "metadata": {
    "collapsed": false,
    "pycharm": {
     "name": "#%%\n",
     "is_executing": false
    }
   }
  },
  {
   "cell_type": "code",
   "execution_count": 226,
   "outputs": [],
   "source": [
    "r = te.loada(steady_state_str)"
   ],
   "metadata": {
    "collapsed": false,
    "pycharm": {
     "name": "#%%\n",
     "is_executing": false
    }
   }
  },
  {
   "cell_type": "code",
   "execution_count": 227,
   "outputs": [
    {
     "data": {
      "text/plain": "        time,     [S2]\n [[        0,        0],\n  [  0.20202, 0.159337],\n  [  0.40404, 0.269956],\n  [ 0.606061, 0.355205],\n  [ 0.808081, 0.424353],\n  [   1.0101, 0.482199],\n  [  1.21212, 0.531604],\n  [  1.41414, 0.574434],\n  [  1.61616, 0.611983],\n  [  1.81818, 0.645195],\n  [   2.0202, 0.674779],\n  [  2.22222, 0.701283],\n  [  2.42424, 0.725144],\n  [  2.62626, 0.746711],\n  [  2.82828, 0.766274],\n  [   3.0303, 0.784072],\n  [  3.23232, 0.800307],\n  [  3.43434,  0.81515],\n  [  3.63636, 0.828747],\n  [  3.83838, 0.841226],\n  [   4.0404, 0.852696],\n  [  4.24242, 0.863255],\n  [  4.44444, 0.872987],\n  [  4.64646, 0.881967],\n  [  4.84848, 0.890262],\n  [  5.05051, 0.897932],\n  [  5.25253, 0.905029],\n  [  5.45455, 0.911602],\n  [  5.65657, 0.917694],\n  [  5.85859, 0.923343],\n  [  6.06061, 0.928584],\n  [  6.26263, 0.933451],\n  [  6.46465, 0.937972],\n  [  6.66667, 0.942174],\n  [  6.86869,  0.94608],\n  [  7.07071, 0.949714],\n  [  7.27273, 0.953094],\n  [  7.47475, 0.956241],\n  [  7.67677,  0.95917],\n  [  7.87879, 0.961899],\n  [  8.08081,  0.96444],\n  [  8.28283, 0.966808],\n  [  8.48485, 0.969016],\n  [  8.68687, 0.971073],\n  [  8.88889, 0.972991],\n  [  9.09091,  0.97478],\n  [  9.29293, 0.976449],\n  [  9.49495, 0.978005],\n  [  9.69697, 0.979457],\n  [  9.89899, 0.980811],\n  [   10.101, 0.982075],\n  [   10.303, 0.983255],\n  [  10.5051, 0.984357],\n  [  10.7071, 0.985385],\n  [  10.9091, 0.986346],\n  [  11.1111, 0.987243],\n  [  11.3131,  0.98808],\n  [  11.5152, 0.988863],\n  [  11.7172, 0.989593],\n  [  11.9192, 0.990275],\n  [  12.1212, 0.990912],\n  [  12.3232, 0.991507],\n  [  12.5253, 0.992063],\n  [  12.7273, 0.992582],\n  [  12.9293, 0.993067],\n  [  13.1313, 0.993521],\n  [  13.3333, 0.993945],\n  [  13.5354, 0.994341],\n  [  13.7374, 0.994711],\n  [  13.9394, 0.995057],\n  [  14.1414,  0.99538],\n  [  14.3434, 0.995682],\n  [  14.5455, 0.995964],\n  [  14.7475, 0.996228],\n  [  14.9495, 0.996474],\n  [  15.1515, 0.996705],\n  [  15.3535,  0.99692],\n  [  15.5556, 0.997121],\n  [  15.7576, 0.997309],\n  [  15.9596, 0.997485],\n  [  16.1616, 0.997649],\n  [  16.3636, 0.997802],\n  [  16.5657, 0.997946],\n  [  16.7677,  0.99808],\n  [  16.9697, 0.998205],\n  [  17.1717, 0.998322],\n  [  17.3737, 0.998431],\n  [  17.5758, 0.998533],\n  [  17.7778, 0.998629],\n  [  17.9798, 0.998718],\n  [  18.1818, 0.998802],\n  [  18.3838,  0.99888],\n  [  18.5859, 0.998953],\n  [  18.7879, 0.999021],\n  [  18.9899, 0.999085],\n  [  19.1919, 0.999144],\n  [  19.3939,   0.9992],\n  [   19.596, 0.999252],\n  [   19.798, 0.999301],\n  [       20, 0.999347]]"
     },
     "metadata": {},
     "output_type": "execute_result",
     "execution_count": 227
    }
   ],
   "source": [
    "r.simulate(0,20,100)"
   ],
   "metadata": {
    "collapsed": false,
    "pycharm": {
     "name": "#%%\n",
     "is_executing": false
    }
   }
  },
  {
   "cell_type": "code",
   "execution_count": 228,
   "outputs": [
    {
     "data": {
      "text/plain": "<Figure size 432x288 with 1 Axes>",
      "image/png": "[encoded data removed]"
     },
     "metadata": {},
     "output_type": "display_data"
    }
   ],
   "source": [
    "r.plot()"
   ],
   "metadata": {
    "collapsed": false,
    "pycharm": {
     "name": "#%%\n",
     "is_executing": false
    }
   }
  },
  {
   "cell_type": "code",
   "execution_count": 229,
   "outputs": [
    {
     "data": {
      "text/plain": "2.142730437526552e-14"
     },
     "metadata": {},
     "output_type": "execute_result",
     "execution_count": 229
    }
   ],
   "source": [
    "r.steadyState()"
   ],
   "metadata": {
    "collapsed": false,
    "pycharm": {
     "name": "#%%\n",
     "is_executing": false
    }
   }
  },
  {
   "cell_type": "code",
   "execution_count": 230,
   "outputs": [
    {
     "name": "stdout",
     "text": [
      "Distance from steady state =  2.220446049250313e-16\n"
     ],
     "output_type": "stream"
    }
   ],
   "source": [
    "print('Distance from steady state = ', r.steadyState())\n"
   ],
   "metadata": {
    "collapsed": false,
    "pycharm": {
     "name": "#%%\n",
     "is_executing": false
    }
   }
  },
  {
   "cell_type": "code",
   "execution_count": 231,
   "outputs": [
    {
     "data": {
      "text/plain": "1.0000000000000002"
     },
     "metadata": {},
     "output_type": "execute_result",
     "execution_count": 231
    }
   ],
   "source": [
    "#now we can get steady state values:\n",
    "r.S2"
   ],
   "metadata": {
    "collapsed": false,
    "pycharm": {
     "name": "#%%\n",
     "is_executing": false
    }
   }
  },
  {
   "cell_type": "code",
   "execution_count": 232,
   "outputs": [
    {
     "data": {
      "text/plain": "10.0"
     },
     "metadata": {},
     "output_type": "execute_result",
     "execution_count": 232
    }
   ],
   "source": [
    "r.S1"
   ],
   "metadata": {
    "collapsed": false,
    "pycharm": {
     "name": "#%%\n",
     "is_executing": false
    }
   }
  },
  {
   "cell_type": "code",
   "execution_count": 53,
   "outputs": [],
   "source": [
    "ss = '''\n",
    "model steady__State\n",
    "J1: $X0 -> S1; K1*X0\n",
    "J2: S1 -> $X1; K2*S1\n",
    "\n",
    "X0 = 1;\n",
    "# X1 = 1;\n",
    "S1 = 5;\n",
    "K1 =1;\n",
    "K2 = 1;\n",
    "end\n",
    "'''\n"
   ],
   "metadata": {
    "collapsed": false,
    "pycharm": {
     "name": "#%%\n",
     "is_executing": false
    }
   }
  },
  {
   "cell_type": "code",
   "execution_count": 54,
   "outputs": [],
   "source": [
    "rr = te.loada(ss)"
   ],
   "metadata": {
    "collapsed": false,
    "pycharm": {
     "name": "#%%\n",
     "is_executing": false
    }
   }
  },
  {
   "cell_type": "code",
   "execution_count": 235,
   "outputs": [
    {
     "data": {
      "text/plain": "         S1, J1,      J2\n [[       5,  1,       5],\n  [ 4.27491,  1, 4.27491],\n  [ 3.68128,  1, 3.68128],\n  [ 3.19525,  1, 3.19525],\n  [ 2.79731,  1, 2.79731],\n  [ 2.47151,  1, 2.47151],\n  [ 2.20477,  1, 2.20477],\n  [ 1.98639,  1, 1.98639],\n  [ 1.80758,  1, 1.80758],\n  [  1.6612,  1,  1.6612],\n  [ 1.54135,  1, 1.54135],\n  [ 1.44322,  1, 1.44322],\n  [ 1.36288,  1, 1.36288],\n  [  1.2971,  1,  1.2971],\n  [ 1.24324,  1, 1.24324],\n  [ 1.19915,  1, 1.19915],\n  [ 1.16305,  1, 1.16305],\n  [  1.1335,  1,  1.1335],\n  [  1.1093,  1,  1.1093],\n  [ 1.08949,  1, 1.08949],\n  [ 1.07326,  1, 1.07326],\n  [ 1.05998,  1, 1.05998],\n  [ 1.04911,  1, 1.04911],\n  [ 1.04021,  1, 1.04021],\n  [ 1.03292,  1, 1.03292],\n  [ 1.02695,  1, 1.02695],\n  [ 1.02207,  1, 1.02207],\n  [ 1.01807,  1, 1.01807],\n  [ 1.01479,  1, 1.01479],\n  [ 1.01211,  1, 1.01211],\n  [ 1.00992,  1, 1.00992],\n  [ 1.00812,  1, 1.00812],\n  [ 1.00665,  1, 1.00665],\n  [ 1.00544,  1, 1.00544],\n  [ 1.00446,  1, 1.00446],\n  [ 1.00365,  1, 1.00365],\n  [ 1.00299,  1, 1.00299],\n  [ 1.00245,  1, 1.00245],\n  [   1.002,  1,   1.002],\n  [ 1.00164,  1, 1.00164],\n  [ 1.00134,  1, 1.00134],\n  [  1.0011,  1,  1.0011],\n  [  1.0009,  1,  1.0009],\n  [ 1.00074,  1, 1.00074],\n  [  1.0006,  1,  1.0006],\n  [ 1.00049,  1, 1.00049],\n  [  1.0004,  1,  1.0004],\n  [ 1.00033,  1, 1.00033],\n  [ 1.00027,  1, 1.00027],\n  [ 1.00022,  1, 1.00022],\n  [ 1.00018,  1, 1.00018]]"
     },
     "metadata": {},
     "output_type": "execute_result",
     "execution_count": 235
    }
   ],
   "source": [
    "rr.simulate(0, 10, ['S1', 'J1', 'J2'])\n"
   ],
   "metadata": {
    "collapsed": false,
    "pycharm": {
     "name": "#%%\n",
     "is_executing": false
    }
   }
  },
  {
   "cell_type": "code",
   "execution_count": 236,
   "outputs": [
    {
     "data": {
      "text/plain": "<Figure size 432x288 with 1 Axes>",
      "image/png": "[encoded data removed]"
     },
     "metadata": {},
     "output_type": "display_data"
    }
   ],
   "source": [
    "rr.plot(xtitle= 'concentration', ytitle= 'reaction rate')"
   ],
   "metadata": {
    "collapsed": false,
    "pycharm": {
     "name": "#%%\n",
     "is_executing": false
    }
   }
  },
  {
   "cell_type": "code",
   "execution_count": 238,
   "outputs": [],
   "source": [
    "r = te.loada ('''\n",
    "    # Model Definition\n",
    "    v1: $Xo -> S1;  k1*Xo;\n",
    "    v2: S1 -> $w;   k2*S1;\n",
    "\n",
    "    # Initialize constants \n",
    "    k1 = 1; k2 = 1; S1 = 15; Xo = 1;\n",
    "''')"
   ],
   "metadata": {
    "collapsed": false,
    "pycharm": {
     "name": "#%%\n",
     "is_executing": false
    }
   }
  },
  {
   "cell_type": "code",
   "execution_count": 245,
   "outputs": [
    {
     "data": {
      "text/plain": "<Figure size 432x288 with 1 Axes>",
      "image/png": "[encoded data removed]"
     },
     "metadata": {
      "needs_background": "light"
     },
     "output_type": "display_data"
    },
    {
     "data": {
      "text/plain": "[<matplotlib.lines.Line2D at 0x2a6db0bda58>]"
     },
     "metadata": {},
     "output_type": "execute_result",
     "execution_count": 245
    }
   ],
   "source": [
    "# Time course simulation\n",
    "m1 = r.simulate (0, 15, 100, [\"Time\", \"S1\"]);\n",
    "r.k1 = r.k1 * 6;\n",
    "m2 = r.simulate (15, 40, 100, [\"Time\", \"S1\"]);\n",
    "r.k1 = r.k1 / 6;\n",
    "m3 = r.simulate (40, 60, 100, [\"Time\", \"S1\"]);\n",
    "\n",
    "m = np.vstack ((m1, m2, m3)); # Merge data\n",
    "te.plotArray (m, labels=[\"S1\"])\n",
    "\n"
   ],
   "metadata": {
    "collapsed": false,
    "pycharm": {
     "name": "#%%\n",
     "is_executing": false
    }
   }
  },
  {
   "cell_type": "code",
   "execution_count": 10,
   "outputs": [
    {
     "data": {
      "text/plain": "<Figure size 432x288 with 1 Axes>",
      "image/png": "[encoded data removed]"
     },
     "metadata": {
      "needs_background": "light"
     },
     "output_type": "display_data"
    }
   ],
   "source": [
    "r = te.loada ('''\n",
    "   $Xo -> S1; k1*Xo;\n",
    "   S1 -> ; k2*S1;\n",
    "   \n",
    "   k1 = 0.2; k2 = 0.4; Xo = 1; S1 = 0.2;\n",
    "''')\n",
    "\n",
    "# Simulate the first part up to 20 time units\n",
    "m1 = r.simulate (0, 20, 100, [\"time\", \"S1\"])\n",
    "\n",
    "# Perturb the concentration of S1 by 0.35 units\n",
    "r.S1 = r.S1 + 0.35\n",
    "\n",
    "# Continue simulating from last end point\n",
    "m2 = r.simulate (20, 50, 100, [\"time\", \"S1\"])\n",
    "\n",
    "# Merge and plot the two halves of the simulation\n",
    "m = np.vstack ((m1, m2))\n",
    "te.plotArray (m, labels= ['S1']);"
   ],
   "metadata": {
    "collapsed": false,
    "pycharm": {
     "name": "#%%\n",
     "is_executing": false
    }
   }
  },
  {
   "cell_type": "code",
   "execution_count": 11,
   "outputs": [
    {
     "name": "stdout",
     "text": [
      "        time,       S1\n [[        0,      0.2],\n  [  0.20202,  0.22329],\n  [  0.40404, 0.244771],\n  [ 0.606061, 0.264584],\n  [ 0.808081, 0.282859],\n  [   1.0101, 0.299715],\n  [  1.21212, 0.315263],\n  [  1.41414, 0.329604],\n  [  1.61616, 0.342832],\n  [  1.81818, 0.355033],\n  [   2.0202, 0.366287],\n  [  2.22222, 0.376667],\n  [  2.42424, 0.386241],\n  [  2.62626, 0.395072],\n  [  2.82828, 0.403217],\n  [   3.0303, 0.410731],\n  [  3.23232, 0.417661],\n  [  3.43434, 0.424053],\n  [  3.63636, 0.429948],\n  [  3.83838, 0.435386],\n  [   4.0404, 0.440402],\n  [  4.24242, 0.445028],\n  [  4.44444, 0.449295],\n  [  4.64646, 0.453231],\n  [  4.84848, 0.456862],\n  [  5.05051,  0.46021],\n  [  5.25253, 0.463299],\n  [  5.45455, 0.466148],\n  [  5.65657, 0.468776],\n  [  5.85859, 0.471199],\n  [  6.06061, 0.473435],\n  [  6.26263, 0.475497],\n  [  6.46465, 0.477399],\n  [  6.66667, 0.479154],\n  [  6.86869, 0.480772],\n  [  7.07071, 0.482264],\n  [  7.27273, 0.483641],\n  [  7.47475, 0.484911],\n  [  7.67677, 0.486082],\n  [  7.87879, 0.487163],\n  [  8.08081, 0.488159],\n  [  8.28283, 0.489078],\n  [  8.48485, 0.489926],\n  [  8.68687, 0.490708],\n  [  8.88889, 0.491429],\n  [  9.09091, 0.492095],\n  [  9.29293, 0.492708],\n  [  9.49495, 0.493274],\n  [  9.69697, 0.493796],\n  [  9.89899, 0.494278],\n  [   10.101, 0.494722],\n  [   10.303, 0.495132],\n  [  10.5051,  0.49551],\n  [  10.7071, 0.495858],\n  [  10.9091,  0.49618],\n  [  11.1111, 0.496476],\n  [  11.3131,  0.49675],\n  [  11.5152, 0.497002],\n  [  11.7172, 0.497235],\n  [  11.9192, 0.497449],\n  [  12.1212, 0.497647],\n  [  12.3232,  0.49783],\n  [  12.5253, 0.497999],\n  [  12.7273, 0.498154],\n  [  12.9293, 0.498297],\n  [  13.1313, 0.498429],\n  [  13.3333, 0.498551],\n  [  13.5354, 0.498664],\n  [  13.7374, 0.498767],\n  [  13.9394, 0.498863],\n  [  14.1414, 0.498951],\n  [  14.3434, 0.499033],\n  [  14.5455, 0.499108],\n  [  14.7475, 0.499177],\n  [  14.9495, 0.499241],\n  [  15.1515,   0.4993],\n  [  15.3535, 0.499354],\n  [  15.5556, 0.499404],\n  [  15.7576,  0.49945],\n  [  15.9596, 0.499493],\n  [  16.1616, 0.499532],\n  [  16.3636, 0.499569],\n  [  16.5657, 0.499602],\n  [  16.7677, 0.499633],\n  [  16.9697, 0.499661],\n  [  17.1717, 0.499688],\n  [  17.3737, 0.499712],\n  [  17.5758, 0.499734],\n  [  17.7778, 0.499755],\n  [  17.9798, 0.499774],\n  [  18.1818, 0.499791],\n  [  18.3838, 0.499808],\n  [  18.5859, 0.499823],\n  [  18.7879, 0.499836],\n  [  18.9899, 0.499849],\n  [  19.1919, 0.499861],\n  [  19.3939, 0.499872],\n  [   19.596, 0.499881],\n  [   19.798, 0.499891],\n  [       20, 0.499899]]\n\n"
     ],
     "output_type": "stream"
    }
   ],
   "source": [
    "print(m1)\n",
    "\n",
    "\n"
   ],
   "metadata": {
    "collapsed": false,
    "pycharm": {
     "name": "#%%\n",
     "is_executing": false
    }
   }
  },
  {
   "cell_type": "code",
   "execution_count": 124,
   "outputs": [],
   "source": [
    "perturbation_str = '''\n",
    "model  event_str\n",
    "    J1: $X0 -> S1; K1*X0;\n",
    "    J2: S1 -> $X1; K2*S1;\n",
    "\n",
    "    X0 = 1; K1 = 0.2; K2 = 0.4; S1 = 0.2;\n",
    "    E1: at (time > 20): S1 = S1 + 0.35;\n",
    "    # E2: at (time >40): S1 = S1 - 0.35;\n",
    "end\n",
    "'''"
   ],
   "metadata": {
    "collapsed": false,
    "pycharm": {
     "name": "#%%\n",
     "is_executing": false
    }
   }
  },
  {
   "cell_type": "code",
   "execution_count": 125,
   "outputs": [],
   "source": [
    "# from test_model import perturb\n",
    "# r = te.loada(perturb())\n",
    "# r.simulate(0, 20, 100)\n",
    "r = te.loada(perturbation_str)\n",
    "\n"
   ],
   "metadata": {
    "collapsed": false,
    "pycharm": {
     "name": "#%%\n",
     "is_executing": false
    }
   }
  },
  {
   "cell_type": "code",
   "execution_count": 122,
   "outputs": [],
   "source": [
    "m = r.simulate(0, 50, 100)"
   ],
   "metadata": {
    "collapsed": false,
    "pycharm": {
     "name": "#%%\n",
     "is_executing": false
    }
   }
  },
  {
   "cell_type": "code",
   "execution_count": 123,
   "outputs": [
    {
     "data": {
      "text/plain": "<Figure size 432x288 with 1 Axes>",
      "image/png": "[encoded data removed]"
     },
     "metadata": {},
     "output_type": "display_data"
    }
   ],
   "source": [
    "r.plot()"
   ],
   "metadata": {
    "collapsed": false,
    "pycharm": {
     "name": "#%%\n",
     "is_executing": false
    }
   }
  },
  {
   "cell_type": "code",
   "execution_count": 118,
   "outputs": [],
   "source": [
    "#if we define the string in a separate file\n",
    "from test_model import perturb\n",
    "r = te.loada(perturb())\n",
    "\n",
    "\n"
   ],
   "metadata": {
    "collapsed": false,
    "pycharm": {
     "name": "#%%\n",
     "is_executing": false
    }
   }
  },
  {
   "cell_type": "code",
   "execution_count": 119,
   "outputs": [
    {
     "data": {
      "text/plain": "        time,     [S1]\n [[        0,      0.5],\n  [ 0.505051,      0.5],\n  [   1.0101,      0.5],\n  [  1.51515,      0.5],\n  [   2.0202,      0.5],\n  [  2.52525,      0.5],\n  [   3.0303,      0.5],\n  [  3.53535,      0.5],\n  [   4.0404,      0.5],\n  [  4.54545,      0.5],\n  [  5.05051,      0.5],\n  [  5.55556,      0.5],\n  [  6.06061,      0.5],\n  [  6.56566,      0.5],\n  [  7.07071,      0.5],\n  [  7.57576,      0.5],\n  [  8.08081,      0.5],\n  [  8.58586,      0.5],\n  [  9.09091,      0.5],\n  [  9.59596,      0.5],\n  [   10.101,      0.5],\n  [  10.6061,      0.5],\n  [  11.1111,      0.5],\n  [  11.6162,      0.5],\n  [  12.1212,      0.5],\n  [  12.6263,      0.5],\n  [  13.1313,      0.5],\n  [  13.6364,      0.5],\n  [  14.1414,      0.5],\n  [  14.6465,      0.5],\n  [  15.1515,      0.5],\n  [  15.6566,      0.5],\n  [  16.1616,      0.5],\n  [  16.6667,      0.5],\n  [  17.1717,      0.5],\n  [  17.6768,      0.5],\n  [  18.1818,      0.5],\n  [  18.6869,      0.5],\n  [  19.1919,      0.5],\n  [   19.697,      0.5],\n  [   20.202,  0.82283],\n  [  20.7071, 0.763776],\n  [  21.2121, 0.715527],\n  [  21.7172, 0.676104],\n  [  22.2222,  0.64389],\n  [  22.7273, 0.617569],\n  [  23.2323, 0.596062],\n  [  23.7374,  0.57849],\n  [  24.2424, 0.564133],\n  [  24.7475, 0.552401],\n  [  25.2525, 0.542815],\n  [  25.7576, 0.534983],\n  [  26.2626, 0.528584],\n  [  26.7677, 0.523355],\n  [  27.2727, 0.519084],\n  [  27.7778, 0.515593],\n  [  28.2828, 0.512741],\n  [  28.7879,  0.51041],\n  [  29.2929, 0.508506],\n  [   29.798,  0.50695],\n  [   30.303, 0.505679],\n  [  30.8081,  0.50464],\n  [  31.3131, 0.503792],\n  [  31.8182, 0.503098],\n  [  32.3232, 0.502531],\n  [  32.8283, 0.502068],\n  [  33.3333,  0.50169],\n  [  33.8384, 0.501381],\n  [  34.3434, 0.501128],\n  [  34.8485, 0.500922],\n  [  35.3535, 0.500753],\n  [  35.8586, 0.500616],\n  [  36.3636, 0.500503],\n  [  36.8687, 0.500411],\n  [  37.3737, 0.500336],\n  [  37.8788, 0.500275],\n  [  38.3838, 0.500224],\n  [  38.8889, 0.500183],\n  [  39.3939,  0.50015],\n  [   39.899, 0.500122],\n  [   40.404,   0.5001],\n  [  40.9091, 0.500082],\n  [  41.4141, 0.500067],\n  [  41.9192, 0.500055],\n  [  42.4242, 0.500045],\n  [  42.9293, 0.500036],\n  [  43.4343,  0.50003],\n  [  43.9394, 0.500024],\n  [  44.4444,  0.50002],\n  [  44.9495, 0.500016],\n  [  45.4545, 0.500013],\n  [  45.9596, 0.500011],\n  [  46.4646, 0.500009],\n  [  46.9697, 0.500007],\n  [  47.4747, 0.500006],\n  [  47.9798, 0.500005],\n  [  48.4848, 0.500004],\n  [  48.9899, 0.500003],\n  [  49.4949, 0.500003],\n  [       50, 0.500002]]"
     },
     "metadata": {},
     "output_type": "execute_result",
     "execution_count": 119
    }
   ],
   "source": [
    "r.simulate(0,50,100)"
   ],
   "metadata": {
    "collapsed": false,
    "pycharm": {
     "name": "#%%\n",
     "is_executing": false
    }
   }
  },
  {
   "cell_type": "code",
   "execution_count": 77,
   "outputs": [
    {
     "data": {
      "text/plain": "<Figure size 432x288 with 1 Axes>",
      "image/png": "[encoded data removed]"
     },
     "metadata": {},
     "output_type": "display_data"
    }
   ],
   "source": [
    "r.plot()"
   ],
   "metadata": {
    "collapsed": false,
    "pycharm": {
     "name": "#%%\n",
     "is_executing": false
    }
   }
  },
  {
   "cell_type": "code",
   "execution_count": 130,
   "outputs": [],
   "source": [
    "#having more than one event in the system\n",
    "perturbation_str = '''\n",
    "model  event_str\n",
    "    J1: $X0 -> S1; K1*X0;\n",
    "    J2: S1 -> $X1; K2*S1;\n",
    "\n",
    "    X0 = 1; K1 = 0.2; K2 = 0.4; S1 = 0.2;\n",
    "    E1: at (time > 20): S1 = S1 + 0.35;\n",
    "    E2: at (time >40): S1 = S1 - 0.35;\n",
    "end\n",
    "'''\n"
   ],
   "metadata": {
    "collapsed": false,
    "pycharm": {
     "name": "#%%\n",
     "is_executing": false
    }
   }
  },
  {
   "cell_type": "code",
   "execution_count": 131,
   "outputs": [],
   "source": [
    "r = te.loada(perturbation_str)\n",
    "\n",
    "\n"
   ],
   "metadata": {
    "collapsed": false,
    "pycharm": {
     "name": "#%%\n",
     "is_executing": false
    }
   }
  },
  {
   "cell_type": "code",
   "execution_count": 132,
   "outputs": [
    {
     "data": {
      "text/plain": "        time,     [S1]\n [[        0,      0.2],\n  [ 0.606061, 0.264584],\n  [  1.21212, 0.315263],\n  [  1.81818, 0.355033],\n  [  2.42424, 0.386241],\n  [   3.0303, 0.410731],\n  [  3.63636, 0.429948],\n  [  4.24242, 0.445028],\n  [  4.84848, 0.456862],\n  [  5.45455, 0.466148],\n  [  6.06061, 0.473435],\n  [  6.66667, 0.479154],\n  [  7.27273, 0.483641],\n  [  7.87879, 0.487163],\n  [  8.48485, 0.489926],\n  [  9.09091, 0.492095],\n  [  9.69697, 0.493796],\n  [   10.303, 0.495132],\n  [  10.9091,  0.49618],\n  [  11.5152, 0.497002],\n  [  12.1212, 0.497647],\n  [  12.7273, 0.498154],\n  [  13.3333, 0.498551],\n  [  13.9394, 0.498863],\n  [  14.5455, 0.499108],\n  [  15.1515,   0.4993],\n  [  15.7576,  0.49945],\n  [  16.3636, 0.499569],\n  [  16.9697, 0.499661],\n  [  17.5758, 0.499734],\n  [  18.1818, 0.499791],\n  [  18.7879, 0.499836],\n  [  19.3939, 0.499872],\n  [       20, 0.499899],\n  [  20.6061, 0.774573],\n  [  21.2121, 0.715465],\n  [  21.8182, 0.669081],\n  [  22.4242, 0.632682],\n  [  23.0303, 0.604118],\n  [  23.6364, 0.581703],\n  [  24.2424, 0.564114],\n  [  24.8485, 0.550312],\n  [  25.4545,  0.53948],\n  [  26.0606,  0.53098],\n  [  26.6667, 0.524311],\n  [  27.2727, 0.519078],\n  [  27.8788, 0.514971],\n  [  28.4848, 0.511749],\n  [  29.0909,  0.50922],\n  [   29.697, 0.507235],\n  [   30.303, 0.505678],\n  [  30.9091, 0.504455],\n  [  31.5152, 0.503496],\n  [  32.1212, 0.502744],\n  [  32.7273, 0.502153],\n  [  33.3333,  0.50169],\n  [  33.9394, 0.501326],\n  [  34.5455,  0.50104],\n  [  35.1515, 0.500817],\n  [  35.7576, 0.500641],\n  [  36.3636, 0.500503],\n  [  36.9697, 0.500395],\n  [  37.5758,  0.50031],\n  [  38.1818, 0.500243],\n  [  38.7879, 0.500191],\n  [  39.3939,  0.50015],\n  [       40, 0.150118],\n  [  40.6061, 0.225439],\n  [  41.2121, 0.284545],\n  [  41.8182, 0.330927],\n  [  42.4242, 0.367324],\n  [  43.0303, 0.395887],\n  [  43.6364, 0.418301],\n  [  44.2424, 0.435888],\n  [  44.8485,  0.44969],\n  [  45.4545, 0.460521],\n  [  46.0606,  0.46902],\n  [  46.6667, 0.475689],\n  [  47.2727, 0.480922],\n  [  47.8788, 0.485029],\n  [  48.4848, 0.488252],\n  [  49.0909, 0.490781],\n  [   49.697, 0.492766],\n  [   50.303, 0.494323],\n  [  50.9091, 0.495545],\n  [  51.5152, 0.496504],\n  [  52.1212, 0.497256],\n  [  52.7273, 0.497847],\n  [  53.3333,  0.49831],\n  [  53.9394, 0.498674],\n  [  54.5455, 0.498959],\n  [  55.1515, 0.499183],\n  [  55.7576, 0.499359],\n  [  56.3636, 0.499497],\n  [  56.9697, 0.499605],\n  [  57.5758,  0.49969],\n  [  58.1818, 0.499757],\n  [  58.7879, 0.499809],\n  [  59.3939,  0.49985],\n  [       60, 0.499882]]"
     },
     "metadata": {},
     "output_type": "execute_result",
     "execution_count": 132
    }
   ],
   "source": [
    "r.simulate(0, 60, 100)\n"
   ],
   "metadata": {
    "collapsed": false,
    "pycharm": {
     "name": "#%%\n",
     "is_executing": false
    }
   }
  },
  {
   "cell_type": "code",
   "execution_count": 133,
   "outputs": [
    {
     "data": {
      "text/plain": "<Figure size 432x288 with 1 Axes>",
      "image/png": "[encoded data removed]"
     },
     "metadata": {},
     "output_type": "display_data"
    }
   ],
   "source": [
    "r.plot()"
   ],
   "metadata": {
    "collapsed": false,
    "pycharm": {
     "name": "#%%\n",
     "is_executing": false
    }
   }
  },
  {
   "cell_type": "code",
   "execution_count": null,
   "outputs": [],
   "source": [
    "\n"
   ],
   "metadata": {
    "collapsed": false,
    "pycharm": {
     "name": "#%%\n"
    }
   }
  }
 ],
 "metadata": {
  "kernelspec": {
   "display_name": "Python 3",
   "language": "python",
   "name": "python3"
  },
  "language_info": {
   "codemirror_mode": {
    "name": "ipython",
    "version": 2
   },
   "file_extension": ".py",
   "mimetype": "text/x-python",
   "name": "python",
   "nbconvert_exporter": "python",
   "pygments_lexer": "ipython2",
   "version": "2.7.6"
  },
  "pycharm": {
   "stem_cell": {
    "cell_type": "raw",
    "source": [],
    "metadata": {
     "collapsed": false
    }
   }
  }
 },
 "nbformat": 4,
 "nbformat_minor": 0
}